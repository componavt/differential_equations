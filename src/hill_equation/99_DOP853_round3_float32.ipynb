{
  "nbformat": 4,
  "nbformat_minor": 0,
  "metadata": {
    "colab": {
      "provenance": [],
      "authorship_tag": "ABX9TyOsfgSA3XftRGwFd4EIl2a1",
      "include_colab_link": true
    },
    "kernelspec": {
      "name": "python3",
      "display_name": "Python 3"
    },
    "language_info": {
      "name": "python"
    }
  },
  "cells": [
    {
      "cell_type": "markdown",
      "metadata": {
        "id": "view-in-github",
        "colab_type": "text"
      },
      "source": [
        "<a href=\"https://colab.research.google.com/github/componavt/differential_equations/blob/main/src/hill_equation/99_DOP853_round3_float32.ipynb\" target=\"_parent\"><img src=\"https://colab.research.google.com/assets/colab-badge.svg\" alt=\"Open In Colab\"/></a>"
      ]
    },
    {
      "cell_type": "markdown",
      "source": [
        "# 🧬📊 Solution Archive for Gene Regulatory ODE System (Compressed) 🚀\n",
        "\n",
        "**Overview**  \n",
        "This notebook computes numerical solutions of a gene-regulatory ODE system for many parameter combinations, compresses trajectories using a delta-based filter, and stores all results in a single compact file. Designed for fast and interactive visualization (e.g., in Streamlit) ⚡️.\n",
        "\n",
        "---\n",
        "\n",
        "**Model Equations**\n",
        "\n",
        "\\[\n",
        "\\begin{cases}\n",
        "\\frac{dx}{dt} = \\frac{K\\,x^{1/\\alpha}}{b^{1/\\alpha} + x^{1/\\alpha}} \\;-\\; \\gamma_1\\,x,\\\\[6pt]\n",
        "\\frac{dy}{dt} = \\frac{K\\,y^{1/\\alpha}}{b^{1/\\alpha} + y^{1/\\alpha}} \\;-\\; \\gamma_2\\,y.\n",
        "\\end{cases}\n",
        "\\]\n",
        "\n",
        "**Fixed parameters**  \n",
        "- b = 1.0, K = 1.0 ⚙️  \n",
        "- Time: t ∈ [0, 1.0], N = 500 steps ⏳  \n",
        "- Initial conditions: x₀ = y₀ = b × (1 + shift), where shift ∈ {−1e−3, −1e−6, 0, 1e−6, 1e−3} 🎯\n",
        "\n",
        "**Parameter sweeps**  \n",
        "- α ∈ {1e−9, 1e−10, ..., 1e−14} 🔄  \n",
        "- γ₁, γ₂ ∈ {0.0, 0.1, ..., 1.0} 🔄  \n",
        "- Solvers: DOP853, BDF, Radau, RK23 🧮\n",
        "\n",
        "---\n",
        "\n",
        "**Compression algorithm** 🗜️  \n",
        "After solving the ODE:  \n",
        "- Start from the first point 🚩  \n",
        "- Keep the next point only if the Euclidean distance in (x, y) exceeds delta = 1e−6 ➡️  \n",
        "- Always keep the first and last points 🎯  \n",
        "- This drastically reduces data size while preserving visual fidelity 👁️‍🗨️\n",
        "\n",
        "---\n",
        "\n",
        "**Each row in the final DataFrame contains**  \n",
        "- Parameters: x₀, y₀, γ₁, γ₂, α 📊  \n",
        "- t: filtered time array (shared across solvers) ⏲️  \n",
        "- solutions: a dictionary `{method_name: (x_array, y_array)}` 🗂️\n",
        "\n",
        "All results are saved to:  \n",
        "📁 `ode_solutions/solutions.pkl` 💾\n",
        "\n",
        "---\n",
        "\n",
        "**How to use this in Streamlit**  \n",
        "- Load the DataFrame with `pd.read_pickle(...)` 📥  \n",
        "- Let users select α, γ₁, γ₂, and view solver comparisons 🎛️  \n",
        "- Plot filtered trajectories for better performance ⚡️\n",
        "\n",
        "---\n",
        "\n",
        "*This notebook provides a compact and scalable pipeline for collecting and visualizing large numbers of ODE simulations 🚀*"
      ],
      "metadata": {
        "id": "x_MjmLltGfLi"
      }
    },
    {
      "cell_type": "code",
      "source": [
        "# Modified code for saving ODE solutions with trajectory compression using delta filtering\n",
        "# Cell 1: Parameters and library imports\n",
        "import numpy as np\n",
        "import pandas as pd\n",
        "from scipy.integrate import solve_ivp\n",
        "import os\n",
        "\n",
        "# Model parameters\n",
        "b = 1.0\n",
        "t_end = 1.0\n",
        "K = 1.0\n",
        "#alpha_list = [1e-9 * (10 ** -i) for i in range(6)]\n",
        "alpha_list = [1e-3 * (10 ** -i) for i in range(4)]\n",
        "\n",
        "# Time discretization\n",
        "N = 500\n",
        "t_eval = np.linspace(0, t_end, N)\n",
        "\n",
        "# Solver methods and gamma parameters\n",
        "#all_methods = [\"DOP853\", \"BDF\", \"Radau\", \"RK23\"]\n",
        "method = \"DOP853\"\n",
        "gamma_1_list = np.arange(0, 1.01, 0.1)\n",
        "gamma_2_list = np.arange(0, 1.01, 0.1)\n",
        "\n",
        "# Initial conditions: points on a circle around (b, b)\n",
        "initial_radius = 0.01\n",
        "num_points = 25\n",
        "angles = np.linspace(0, 2 * np.pi, num_points, endpoint=False)\n",
        "initial_conditions = [(b + initial_radius * np.cos(a), b + initial_radius * np.sin(a)) for a in angles]\n",
        "\n",
        "# Output folder\n",
        "output_folder = \"ode_solutions\"\n",
        "os.makedirs(output_folder, exist_ok=True)\n",
        "\n",
        "# Delta threshold for filtering\n",
        "# delta = 1e-6  # ~0.99% reduction\n",
        "# delta = 1e-3  # ~19.02% reduction\n",
        "# delta = 5e-3  # ~77.16% reduction\n",
        "# delta = 1e-2  # ~87.60% reduction\n",
        "delta = 5e-2   # ~97.15% reduction\n",
        "\n",
        "def compress_trajectory(t, x, y, delta):\n",
        "    indices = [0]\n",
        "    i = 0\n",
        "    while i < len(t) - 1:\n",
        "        j = i + 1\n",
        "        while j < len(t):\n",
        "            dist = np.sqrt((x[j] - x[i])**2 + (y[j] - y[i])**2)\n",
        "            if dist > delta:\n",
        "                break\n",
        "            j += 1\n",
        "        if j >= len(t):\n",
        "            break\n",
        "        indices.append(j)\n",
        "        i = j\n",
        "    if indices[-1] != len(t) - 1:\n",
        "        indices.append(len(t) - 1)\n",
        "    return indices"
      ],
      "metadata": {
        "id": "6bHgl9HpnKkf",
        "collapsed": true
      },
      "execution_count": 21,
      "outputs": []
    },
    {
      "cell_type": "code",
      "source": [
        "# Cell 2: Define RHS function\n",
        "def get_rhs(alpha, gamma1, gamma2):\n",
        "    def rhs(t, xy):\n",
        "        x = np.clip(xy[0], 1e-20, 1e20)\n",
        "        y = np.clip(xy[1], 1e-20, 1e20)\n",
        "        inv_alpha = 1.0 / alpha\n",
        "        x_alpha = np.exp(np.clip(np.log(x) * inv_alpha, -700, 700))\n",
        "        y_alpha = np.exp(np.clip(np.log(y) * inv_alpha, -700, 700))\n",
        "        b_alpha = np.exp(np.clip(np.log(b) * inv_alpha, -700, 700))\n",
        "        dxdt = K * x_alpha / (b_alpha + x_alpha) - gamma1 * x\n",
        "        dydt = K * y_alpha / (b_alpha + y_alpha) - gamma2 * y\n",
        "        return [dxdt, dydt]\n",
        "    return rhs"
      ],
      "metadata": {
        "id": "9Y4umsyb6ar1",
        "collapsed": true
      },
      "execution_count": 22,
      "outputs": []
    },
    {
      "cell_type": "code",
      "source": [
        "# Cell 3: Solve and compress\n",
        "records = []\n",
        "solution_count = 0\n",
        "skipped_total = 0\n",
        "kept_total = 0\n",
        "\n",
        "for x0, y0 in initial_conditions:\n",
        "    for gamma1 in gamma_1_list:\n",
        "        for gamma2 in gamma_2_list:\n",
        "            for alpha in alpha_list:\n",
        "                rhs = get_rhs(alpha, gamma1, gamma2)\n",
        "                try:\n",
        "                    sol = solve_ivp(rhs, [0, t_end], [x0, y0], t_eval=t_eval, method=method)\n",
        "                    if sol.success:\n",
        "                        x = sol.y[0]\n",
        "                        y = sol.y[1]\n",
        "                        t = sol.t\n",
        "                        indices = compress_trajectory(t, x, y, delta)\n",
        "\n",
        "                        x_filt = np.round(x[indices], 3).astype(np.float32)\n",
        "                        y_filt = np.round(y[indices], 3).astype(np.float32)\n",
        "                        t_filt = np.round(t[indices], 3).astype(np.float32)\n",
        "\n",
        "                        kept_total += len(indices)\n",
        "                        skipped_total += len(t) - len(indices)\n",
        "\n",
        "                        records.append({\n",
        "                            'x0': x0,\n",
        "                            'y0': y0,\n",
        "                            'gamma1': gamma1,\n",
        "                            'gamma2': gamma2,\n",
        "                            'alpha': alpha,\n",
        "                            't': t_filt,\n",
        "                            'x': x_filt,\n",
        "                            'y': y_filt\n",
        "                        })\n",
        "\n",
        "                        solution_count += 1\n",
        "                        if solution_count % 1000 == 0:\n",
        "                            compact = ','.join(map(str, indices[:5])) + ('...' if len(indices) > 5 else '')\n",
        "                            xvals = ', '.join(f\"{v:.3g}\" for v in x_filt[:5]) + ('...' if len(x_filt) > 5 else '')#\n",
        "                            yvals = ', '.join(f\"{v:.3g}\" for v in y_filt[:5]) + ('...' if len(y_filt) > 5 else '')#\n",
        "                            print(f\"#{solution_count}: x0={x0:.1e}, alpha={alpha:.1e}, γ1={gamma1:.2f}, γ2={gamma2:.2f}, {method}, points={len(indices)}, kept={compact}\")\n",
        "                            print(f\"  x: {xvals}\\n  y: {yvals}\\n\")#\n",
        "                except Exception as e:\n",
        "                    print(f\"Error: method={method}, alpha={alpha}, gamma1={gamma1}, gamma2={gamma2}, x0={x0}: {e}\")"
      ],
      "metadata": {
        "id": "h_Dz1j7EvUlb",
        "colab": {
          "base_uri": "https://localhost:8080/"
        },
        "outputId": "a30c2cb9-d383-47b1-86d6-a25e18de2e7d"
      },
      "execution_count": 23,
      "outputs": [
        {
          "output_type": "stream",
          "name": "stdout",
          "text": [
            "#1000: x0=1.0e+00, alpha=1.0e-06, γ1=0.00, γ2=0.70, DOP853, points=21, kept=0,24,49,74,99...\n",
            "  x: 1.01, 1.06, 1.11, 1.16, 1.21...\n",
            "  y: 1, 1.02, 1.03, 1.05, 1.06...\n",
            "\n",
            "#2000: x0=1.0e+00, alpha=1.0e-06, γ1=0.10, γ2=0.40, DOP853, points=21, kept=0,24,48,72,96...\n",
            "  x: 1, 1.05, 1.09, 1.13, 1.18...\n",
            "  y: 1.01, 1.04, 1.07, 1.09, 1.12...\n",
            "\n",
            "#3000: x0=1.0e+00, alpha=1.0e-06, γ1=0.20, γ2=0.10, DOP853, points=23, kept=0,21,42,64,86...\n",
            "  x: 1, 1.03, 1.07, 1.1, 1.14...\n",
            "  y: 1.01, 1.05, 1.09, 1.12, 1.16...\n",
            "\n",
            "#4000: x0=1.0e+00, alpha=1.0e-06, γ1=0.20, γ2=0.90, DOP853, points=5, kept=0,119,246,383,499\n",
            "  x: 0.996, 0.949, 0.902, 0.854, 0.815\n",
            "  y: 1.01, 1.03, 1.05, 1.06, 1.07\n",
            "\n",
            "#5000: x0=9.9e-01, alpha=1.0e-06, γ1=0.30, γ2=0.60, DOP853, points=9, kept=0,52,107,165,226...\n",
            "  x: 0.992, 0.961, 0.93, 0.898, 0.866...\n",
            "  y: 1.01, 1.05, 1.09, 1.12, 1.16...\n",
            "\n",
            "#6000: x0=9.9e-01, alpha=1.0e-06, γ1=0.40, γ2=0.30, DOP853, points=15, kept=0,32,65,98,132...\n",
            "  x: 0.99, 0.965, 0.94, 0.915, 0.891...\n",
            "  y: 1, 1.05, 1.09, 1.13, 1.18...\n",
            "\n",
            "#7000: x0=9.9e-01, alpha=1.0e-06, γ1=0.50, γ2=0.00, DOP853, points=9, kept=0,52,107,165,227...\n",
            "  x: 0.991, 0.94, 0.89, 0.84, 0.789...\n",
            "  y: 0.996, 0.996, 0.996, 0.996, 0.996...\n",
            "\n",
            "#8000: x0=9.9e-01, alpha=1.0e-06, γ1=0.50, γ2=0.80, DOP853, points=15, kept=0,28,57,87,118...\n",
            "  x: 0.994, 0.966, 0.938, 0.911, 0.883...\n",
            "  y: 0.992, 0.949, 0.906, 0.863, 0.821...\n",
            "\n",
            "#9000: x0=1.0e+00, alpha=1.0e-06, γ1=0.60, γ2=0.50, DOP853, points=13, kept=0,33,67,103,140...\n",
            "  x: 0.998, 0.959, 0.921, 0.882, 0.843...\n",
            "  y: 0.99, 0.958, 0.926, 0.893, 0.861...\n",
            "\n",
            "#10000: x0=1.0e+00, alpha=1.0e-06, γ1=0.70, γ2=0.20, DOP853, points=7, kept=0,73,152,238,332...\n",
            "  x: 1, 1.04, 1.09, 1.12, 1.16...\n",
            "  y: 0.99, 0.962, 0.932, 0.9, 0.867...\n",
            "\n",
            "#11000: x0=1.0e+00, alpha=1.0e-06, γ1=0.70, γ2=1.00, DOP853, points=15, kept=0,25,51,79,108...\n",
            "  x: 1.01, 1.02, 1.04, 1.05, 1.07...\n",
            "  y: 0.993, 0.945, 0.897, 0.848, 0.8...\n",
            "\n",
            "#12000: x0=1.0e+00, alpha=1.0e-06, γ1=0.80, γ2=0.70, DOP853, points=12, kept=0,36,74,114,156...\n",
            "  x: 1.01, 1.02, 1.04, 1.05, 1.06...\n",
            "  y: 0.998, 0.948, 0.899, 0.85, 0.801...\n",
            "\n"
          ]
        }
      ]
    },
    {
      "cell_type": "code",
      "source": [
        "# Cell 4: Save\n",
        "df = pd.DataFrame(records)\n",
        "df.to_pickle(os.path.join(output_folder, \"solutions.pkl\"))\n",
        "print(f\"Saved DataFrame with {len(df)} rows to 'solutions.pkl'\")\n",
        "print(f\"Total filtered points kept: {kept_total}, skipped: {skipped_total}, percent removed: {100.0 * skipped_total / (kept_total + skipped_total):.2f}%\")"
      ],
      "metadata": {
        "id": "XnNZGt3y8apZ",
        "outputId": "d5c2cd40-7071-481b-de0a-44465c7499a3",
        "colab": {
          "base_uri": "https://localhost:8080/"
        }
      },
      "execution_count": 24,
      "outputs": [
        {
          "output_type": "stream",
          "name": "stdout",
          "text": [
            "Saved DataFrame with 12100 rows to 'solutions.pkl'\n",
            "Total filtered points kept: 171098, skipped: 5878902, percent removed: 97.17%\n"
          ]
        }
      ]
    }
  ]
}