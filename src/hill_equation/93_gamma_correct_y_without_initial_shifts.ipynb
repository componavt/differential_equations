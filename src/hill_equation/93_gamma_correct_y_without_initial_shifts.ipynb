{
  "nbformat": 4,
  "nbformat_minor": 0,
  "metadata": {
    "colab": {
      "provenance": [],
      "authorship_tag": "ABX9TyPbSsglUjp7btzjFAb4MYXF",
      "include_colab_link": true
    },
    "kernelspec": {
      "name": "python3",
      "display_name": "Python 3"
    },
    "language_info": {
      "name": "python"
    }
  },
  "cells": [
    {
      "cell_type": "markdown",
      "metadata": {
        "id": "view-in-github",
        "colab_type": "text"
      },
      "source": [
        "<a href=\"https://colab.research.google.com/github/componavt/differential_equations/blob/main/src/hill_equation/93_gamma_correct_y_without_initial_shifts.ipynb\" target=\"_parent\"><img src=\"https://colab.research.google.com/assets/colab-badge.svg\" alt=\"Open In Colab\"/></a>"
      ]
    },
    {
      "cell_type": "markdown",
      "source": [
        "# 🧬📊 Solution Archive for Gene Regulatory ODE System\n",
        "\n",
        "**Overview:**  \n",
        "This notebook computes and saves numerical solutions of a two-dimensional gene-regulatory ODE system under a wide range of parameter values. Solutions are saved to disk for later visualization in interactive apps like Streamlit.\n",
        "\n",
        "---\n",
        "\n",
        "**Model Equations**  \n",
        "\\begin{cases}\n",
        "\\frac{dx}{dt} = \\frac{K\\,x^{1/α}}{b^{1/α} + x^{1/α}} \\;-\\; γ_1\\,x,\\\\[6pt]\n",
        "\\frac{dy}{dt} = \\frac{K\\,y^{1/α}}{b^{1/α} + y^{1/α}} \\;-\\; γ_2\\,y.\n",
        "\\end{cases}\n",
        "\n",
        "**Fixed parameters:**  \n",
        "- b = 1.0, K = 1.0  \n",
        "- Time: t ∈ [0, 1.0], N = 500 steps  \n",
        "- Initial condition(s): x₀ = y₀ = b * (1 - ε), ε ≈ 1e-10\n",
        "\n",
        "**Parameter sweeps:**  \n",
        "- α ∈ {1e-9, 1e-10, … , 1e-14}  \n",
        "- γ₁, γ₂ ∈ {0.0, 0.5, 1.0}  \n",
        "- Solvers: RK45, DOP853, BDF\n",
        "\n",
        "---\n",
        "\n",
        "**What this notebook does:**  \n",
        "1. For each combination of α, γ₁, γ₂, and solver:\n",
        "   - Integrates the ODE system from a fixed initial condition.\n",
        "   - Saves time points and trajectories x(t), y(t).\n",
        "2. Each solution is stored as a dictionary with:\n",
        "   - Parameters: α, γ₁, γ₂, solver name, initial values\n",
        "   - Solution arrays: t, x(t), y(t)\n",
        "   - Status: success or failure\n",
        "3. All results are saved in a single `pickle` file:  \n",
        "   📁 `ode_solutions/solutions.pkl`\n",
        "\n",
        "---\n",
        "\n",
        "**How to use this in Streamlit:**  \n",
        "- Load the file with `pickle.load(open(...))`  \n",
        "- Add controls (checkboxes, sliders) for α, γ₁, γ₂, solver  \n",
        "- Filter solutions and display interactive plots of x(t), y(t)  \n",
        "\n",
        "---\n",
        "\n",
        "*This notebook provides a scalable, solver-agnostic framework for collecting ODE simulation results for downstream visualization and analysis.*"
      ],
      "metadata": {
        "id": "1VotvD7Q8eIg"
      }
    },
    {
      "cell_type": "code",
      "source": [
        "# Modified code for saving ODE solutions for Streamlit\n",
        "# Cell 1: Parameters and library imports\n",
        "import numpy as np\n",
        "import matplotlib.pyplot as plt\n",
        "from scipy.integrate import solve_ivp\n",
        "import pickle\n",
        "import time\n",
        "from matplotlib import cm\n",
        "from numpy.linalg import eigvals\n",
        "import os\n",
        "\n",
        "b = 1.0\n",
        "#t_end = 0.05\n",
        "t_end = 1\n",
        "K = 1.0\n",
        "# alpha_list = [1e-4 * (10 ** -i) for i in range(10)]  # 1e-4 to 1e-13\n",
        "alpha_list = [1e-9 * (10 ** -i) for i in range(6)]  # 1e-9 to 1e-14\n",
        "#alpha_list = [1e-9 * (10 ** -i) for i in range(9)]  # 1e-9 to 1e-17\n",
        "print(\"Alpha values:\", alpha_list)\n",
        "\n",
        "N = 500\n",
        "t_eval = np.linspace(0, t_end, N)\n",
        "\n",
        "MAX_LOG_MESSAGES = 3\n",
        "#all_methods = [\"RK45\", \"DOP853\", \"BDF\", \"Radau\", \"RK23\", \"Symplectic\"]\n",
        "all_methods = [\"DOP853\", \"BDF\", \"Radau\", \"RK23\",]  # limited for simplicity\n",
        "\n",
        "error_counts = {m: 0 for m in all_methods}\n",
        "error_counts.update({m + '_msgs': 0 for m in all_methods})\n",
        "alpha_failed = {m: [] for m in all_methods}\n",
        "\n",
        "\n",
        "# positive gamma only\n",
        "gamma_1_list = np.arange(0, 1.1, 0.5)\n",
        "gamma_2_list = np.arange(0, 1.1, 0.5)\n",
        "initial_conditions = [(b * (1 - 1e-10), b * (1 - 1e-10))]\n",
        "style_map = {}\n",
        "\n",
        "# Folder for saving data\n",
        "output_folder = \"ode_solutions\"\n",
        "os.makedirs(output_folder, exist_ok=True)"
      ],
      "metadata": {
        "id": "6bHgl9HpnKkf",
        "outputId": "5b4398bd-7ad3-4be1-b20b-cc91e58c4660",
        "colab": {
          "base_uri": "https://localhost:8080/"
        },
        "collapsed": true
      },
      "execution_count": 13,
      "outputs": [
        {
          "output_type": "stream",
          "name": "stdout",
          "text": [
            "Alpha values: [1e-09, 1.0000000000000002e-10, 1.0000000000000001e-11, 1.0000000000000002e-12, 1.0000000000000002e-13, 1.0000000000000002e-14]\n"
          ]
        }
      ]
    },
    {
      "cell_type": "code",
      "source": [
        "# Cell 2: Define RHS with decay terms\n",
        "def get_rhs(alpha, gamma1, gamma2):\n",
        "    def rhs(t, xy):\n",
        "        x = np.clip(xy[0], 1e-20, 1e20)\n",
        "        y = np.clip(xy[1], 1e-20, 1e20)\n",
        "        inv_alpha = 1 / alpha\n",
        "        x_alpha = np.exp(np.clip(np.log(x) * inv_alpha, -700, 700))\n",
        "        y_alpha = np.exp(np.clip(np.log(y) * inv_alpha, -700, 700))\n",
        "        b_alpha = np.exp(np.clip(np.log(b) * inv_alpha, -700, 700))\n",
        "        dxdt = K * x_alpha / (b_alpha + x_alpha) - gamma1 * x\n",
        "        dydt = K * y_alpha / (b_alpha + y_alpha) - gamma2 * y\n",
        "        return [dxdt, dydt]\n",
        "    return rhs"
      ],
      "metadata": {
        "id": "9Y4umsyb6ar1",
        "collapsed": true
      },
      "execution_count": 14,
      "outputs": []
    },
    {
      "cell_type": "code",
      "source": [
        "# Cell 3: Solve and save all results\n",
        "data = []\n",
        "\n",
        "for alpha in alpha_list:\n",
        "    for gamma1 in gamma_1_list:\n",
        "        for gamma2 in gamma_2_list:\n",
        "            for method in all_methods:\n",
        "                for x0, y0 in initial_conditions:\n",
        "                    rhs = get_rhs(alpha, gamma1, gamma2)\n",
        "                    try:\n",
        "                        sol = solve_ivp(rhs, [0, t_end], [x0, y0], t_eval=t_eval, method=method)\n",
        "                        entry = {\n",
        "                            'alpha': alpha,\n",
        "                            'gamma1': gamma1,\n",
        "                            'gamma2': gamma2,\n",
        "                            'method': method,\n",
        "                            'x0': x0,\n",
        "                            'y0': y0,\n",
        "                            't': sol.t,\n",
        "                            'x': sol.y[0],\n",
        "                            'y': sol.y[1],\n",
        "                            'success': sol.success\n",
        "                        }\n",
        "                        data.append(entry)\n",
        "                    except Exception as e:\n",
        "                        print(f\"Error with alpha={alpha}, gamma1={gamma1}, gamma2={gamma2}, method={method}: {e}\")\n",
        "\n",
        "# Cell 4: Save to pickle file\n",
        "with open(os.path.join(output_folder, \"solutions.pkl\"), \"wb\") as f:\n",
        "    pickle.dump(data, f)\n",
        "\n",
        "print(f\"Saved {len(data)} solution entries to 'solutions.pkl'\")"
      ],
      "metadata": {
        "id": "h_Dz1j7EvUlb",
        "colab": {
          "base_uri": "https://localhost:8080/"
        },
        "outputId": "5b1aebac-648a-4d85-de7b-3c9b8aa3bb86"
      },
      "execution_count": 15,
      "outputs": [
        {
          "output_type": "stream",
          "name": "stdout",
          "text": [
            "Saved 216 solution entries to 'solutions.pkl'\n"
          ]
        }
      ]
    },
    {
      "cell_type": "markdown",
      "source": [
        "# 🧬📉 Анализ фазового пространства генрегуляторной системы — обновлённая версия\n",
        "\n",
        "- **Цель**: Изучить фазовую динамику, бифуркации и чувствительность решений системы ОДУ, моделирующей генрегуляцию:  \n",
        "  $$\n",
        "  \\frac{dx}{dt} = \\frac{K \\cdot x^{1/\\alpha}}{b^{1/\\alpha} + x^{1/\\alpha}}, \\quad\n",
        "  \\frac{dy}{dt} = \\frac{K \\cdot y^{1/\\alpha}}{b^{1/\\alpha} + x^{1/\\alpha}}\n",
        "  $$\n",
        "\n",
        "- **Фиксированные параметры**:  \n",
        "  - $b = 1.0$  \n",
        "  - $K = 1.0$ (фиксированный скалярный множитель)  \n",
        "\n",
        "- **Начальные условия**: Несколько точек около $b$:  \n",
        "  $$\n",
        "  x_0, y_0 \\approx b \\times (1 - \\epsilon), \\quad \\epsilon \\in \\{10^{-7}, 10^{-8}, 10^{-9}\\}\n",
        "  $$  \n",
        "  для исследования чувствительности и возможности нескольких траекторий решения.\n",
        "\n",
        "- **Временной интервал**:  \n",
        "  $$\n",
        "  t \\in [0, t_{\\text{end}}], \\quad t_{\\text{end}} = 0.05\n",
        "  $$\n",
        "\n",
        "- **Диапазон альфа** (логарифмический масштаб, суженный):  \n",
        "  $$\n",
        "  \\alpha \\in \\{10^{-9}, 10^{-10}, 10^{-11}, 10^{-12}, 10^{-13}, 10^{-14}\\}\n",
        "  $$\n",
        "\n",
        "## ⚙️ Используемые численные решатели\n",
        "- ⚡ `RK45` — явный метод Рунге-Кутты 4(5) с адаптивным шагом  \n",
        "- 🌐 `DOP853` — высокопорядковый метод Dormand-Prince 8(5,3)  \n",
        "- 🧱 `BDF` — метод обратных разностей, для жёстких систем  \n",
        "- 🧿 `Radau` — A-устойчивый неявный метод Рунге-Кутты  \n",
        "- 🐢 `RK23` — явный метод Рунге-Кутты 2(3), пониже порядок  \n",
        "- 🌀 `Symplectic` — собственная реализация явного метода Эйлера (симплектический аналог)\n",
        "\n",
        "## 📈 Визуализация и диагностика\n",
        "- ✔️ Фазовые портреты ($y(t)$ против $x(t)$) для каждого решателя и каждого $\\alpha$, на каждом графике показаны траектории для разных начальных условий.  \n",
        "- ➡️ Стрелки (quiver) вдоль траекторий показывают направление потока — размер стрелок подобран для наглядности без засорения.  \n",
        "- 🔄 Цвета, стили линий, маркеры используются для различения начальных условий; значения начальных условий подписаны прямо на кривых.  \n",
        "- ⚠️ Учёт и логирование численных ошибок и сбоев для каждого решателя и $\\alpha$.  \n",
        "- 📊 Итоговая таблица по решателям с:  \n",
        "  - Общим временем интегрирования  \n",
        "  - Числом вычислений функции правой части (`nfev`), отражающим вычислительные затраты.\n",
        "\n",
        "## 🧪 Расширенный численный анализ\n",
        "- 🔍 **Оценка показателя Ляпунова**:  \n",
        "  Приблизительный расчёт на основе расходимости близких траекторий.  \n",
        "  Положительный показатель говорит о чувствительной зависимости и потенциальном хаосе.  \n",
        "- 🌪️ **Обнаружение бифуркации Неймарк–Сакера**:  \n",
        "  - Оценка отображения Пуанкаре (конечная точка решения)  \n",
        "  - Якобиан, вычисленный численно по разностям начальных условий  \n",
        "  - Анализ собственных чисел для выхода за единичную окружность (бифуркация).\n",
        "\n",
        "## 📌 Примечания по реализации\n",
        "- Начальные условия варьируются вблизи $b$ для проверки множественности решений и чувствительности.  \n",
        "- Управление переполнением реализовано через ограничение экспонент в логарифмической области для предотвращения `NaN`/`Inf`.  \n",
        "- Симплектический решатель — упрощённый явный метод Эйлера, поскольку в SciPy нет нативного симплектического метода.  \n",
        "- Ошибки и неудачи интегрирования собираются и визуализируются в зависимости от $\\alpha$, что помогает локализовать проблемные зоны параметра.\n",
        "\n",
        "---\n",
        "\n",
        "*Данный ноутбук даёт основу для исследования сложной динамики генрегуляторных ОДУ-систем, включая численную устойчивость, бифуркационный анализ и выявление хаоса с помощью множества решателей и перебора параметров.*"
      ],
      "metadata": {
        "id": "jCHjiet6OU7T"
      }
    }
  ]
}