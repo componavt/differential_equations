{
  "nbformat": 4,
  "nbformat_minor": 0,
  "metadata": {
    "colab": {
      "provenance": [],
      "authorship_tag": "ABX9TyPeWp7s9kHzpLqgPhJzYNAH",
      "include_colab_link": true
    },
    "kernelspec": {
      "name": "python3",
      "display_name": "Python 3"
    },
    "language_info": {
      "name": "python"
    }
  },
  "cells": [
    {
      "cell_type": "markdown",
      "metadata": {
        "id": "view-in-github",
        "colab_type": "text"
      },
      "source": [
        "<a href=\"https://colab.research.google.com/github/componavt/differential_equations/blob/main/src/hill_equation/91_alfa_range_and_Initial_Conditions_shift.ipynb\" target=\"_parent\"><img src=\"https://colab.research.google.com/assets/colab-badge.svg\" alt=\"Open In Colab\"/></a>"
      ]
    },
    {
      "cell_type": "markdown",
      "source": [
        "# 🧬📉 Phase-Space Analysis of Gene Regulatory System — Updated Version\n",
        "\n",
        "- **Goal**: Study phase-space dynamics, bifurcations, and solution sensitivity of a gene regulatory system modeled by a 2D ODE system:  \n",
        "  $$\n",
        "  \\frac{dx}{dt} = \\frac{K \\cdot x^{1/\\alpha}}{b^{1/\\alpha} + x^{1/\\alpha}}, \\quad\n",
        "  \\frac{dy}{dt} = \\frac{K \\cdot y^{1/\\alpha}}{b^{1/\\alpha} + x^{1/\\alpha}}\n",
        "  $$\n",
        "  \n",
        "- **Fixed Parameters**:  \n",
        "  - $b = 1.0$  \n",
        "  - $K = 1.0$ (fixed scalar multiplier)  \n",
        "\n",
        "- **Initial Conditions**: Multiple initial points near $b$:  \n",
        "  $$\n",
        "  x_0, y_0 \\approx b \\times (1 - \\epsilon), \\quad \\epsilon \\in \\{10^{-7}, 10^{-8}, 10^{-9}\\}\n",
        "  $$  \n",
        "  to explore sensitivity and multiple solution trajectories.\n",
        "\n",
        "- **Time Interval**:  \n",
        "  $$\n",
        "  t \\in [0, t_{\\text{end}}], \\quad t_{\\text{end}} = 0.05\n",
        "  $$\n",
        "\n",
        "- **Alpha Range** (logarithmic scale, narrowed):  \n",
        "  $$\n",
        "  \\alpha \\in \\{10^{-9}, 10^{-10}, 10^{-11}, 10^{-12}, 10^{-13}, 10^{-14}\\}\n",
        "  $$\n",
        "\n",
        "## ⚙️ Numerical Solvers Implemented\n",
        "- ⚡ `RK45` — Explicit Runge-Kutta 4(5) adaptive  \n",
        "- 🌐 `DOP853` — Dormand-Prince 8(5,3), high order  \n",
        "- 🧱 `BDF` — Backward Differentiation Formula, stiff solver  \n",
        "- 🧿 `Radau` — Implicit Runge-Kutta, A-stable  \n",
        "- 🐢 `RK23` — Explicit Runge-Kutta 2(3), lower order  \n",
        "- 🌀 `Symplectic` — Custom explicit Euler stepper (non-native symplectic)\n",
        "\n",
        "## 📈 Visualization & Diagnostics\n",
        "- ✔️ Phase portraits ($y(t)$ vs $x(t)$) for each solver and each $\\alpha$, plotting multiple initial conditions on each graph.  \n",
        "- ➡️ Flow direction shown by arrows (quiver) along trajectories — arrow size tuned for clarity without clutter.  \n",
        "- 🔄 Different colors, line styles, markers used to distinguish initial conditions; initial conditions annotated directly on curves.  \n",
        "- ⚠️ Numerical error counts and failures logged for each solver and $\\alpha$.  \n",
        "- 📊 Summary table of:  \n",
        "  - Total computational time per solver  \n",
        "  - Number of function evaluations (`nfev`) — total calls to RHS function during integration.  \n",
        "\n",
        "## 🧪 Advanced Numerical Analyses\n",
        "- 🔍 **Lyapunov Exponent Estimation**:  \n",
        "  Computed by measuring divergence of nearby trajectories, yielding an approximate largest Lyapunov exponent $\\lambda$.  \n",
        "  Positive $\\lambda$ indicates chaotic or sensitive dynamics.  \n",
        "- 🌪️ **Neimark–Sacker Bifurcation Detection**:  \n",
        "  - Via Poincaré map approximated by solution at $t_{\\text{end}}$  \n",
        "  - Jacobian estimated by finite differences of perturbed initial states  \n",
        "  - Eigenvalues examined for crossing outside the unit circle, signaling bifurcation.\n",
        "\n",
        "## 📌 Implementation Notes\n",
        "- Initial conditions perturbed near $b$ to probe multiple potential solutions or sensitivity.  \n",
        "- Overflow control implemented by clipping exponents in logarithmic domain before exponentiation to prevent `NaN`/`Inf` issues.  \n",
        "- `Symplectic` solver is a simple explicit Euler scheme serving as a phase-space baseline, as no native symplectic solver available in SciPy.  \n",
        "- Failed integrations and error counts tracked per $\\alpha$ and solver, with visualization of failure frequency vs $\\log_{10}(\\alpha)$ to localize problematic parameter regions.\n",
        "\n",
        "---\n",
        "\n",
        "*This notebook provides a framework for exploring complex dynamics in gene regulatory ODE systems, focusing on numerical stability, bifurcation analysis, and chaos detection using multiple solvers and parameter sweeps.*"
      ],
      "metadata": {
        "id": "1VotvD7Q8eIg"
      }
    },
    {
      "cell_type": "code",
      "source": [
        "# Modified code for a gene regulatory system with phase space visualization\n",
        "# exploring stability and bifurcation in gene regulation ODE system\n",
        "\n",
        "# Cell 1: Parameters and library imports\n",
        "import numpy as np\n",
        "import matplotlib.pyplot as plt\n",
        "from scipy.integrate import solve_ivp\n",
        "import pickle\n",
        "import time\n",
        "from matplotlib import cm\n",
        "from numpy.linalg import eigvals\n",
        "\n",
        "b = 1.0\n",
        "#t_end = 0.05\n",
        "t_end = 1\n",
        "K = 1.0\n",
        "# alpha_list = [1e-4 * (10 ** -i) for i in range(10)]  # 1e-4 to 1e-13\n",
        "alpha_list = [1e-9 * (10 ** -i) for i in range(6)]  # 1e-9 to 1e-14\n",
        "#alpha_list = [1e-9 * (10 ** -i) for i in range(9)]  # 1e-9 to 1e-17\n",
        "\n",
        "N = 500\n",
        "t_eval = np.linspace(0, t_end, N)\n",
        "initial_shifts = [-1e-3, -1e-6, 0.0, 1e-6, 1e-3]\n",
        "\n",
        "print(\"Alpha values:\", alpha_list)\n",
        "\n",
        "MAX_LOG_MESSAGES = 3\n",
        "all_methods = [\"RK45\", \"DOP853\", \"BDF\", \"Radau\", \"RK23\", \"Symplectic\"]\n",
        "error_counts = {m: 0 for m in all_methods}\n",
        "error_counts.update({m + '_msgs': 0 for m in all_methods})\n",
        "fail_counts = {m: 0 for m in all_methods}\n",
        "alpha_failed = {m: [] for m in all_methods}\n",
        "style_map = {}\n",
        "\n",
        "# Assign visual styles\n",
        "for idx, shift in enumerate(initial_shifts):\n",
        "    style_map[shift] = {\n",
        "        \"color\": plt.cm.viridis(idx / len(initial_shifts)),\n",
        "        \"marker\": ['o', 's', '^', 'v', 'D'][idx % 5],\n",
        "        \"linestyle\": ['-', '--', ':', '-.', (0, (3, 1, 1, 1))][idx % 5]\n",
        "    }"
      ],
      "metadata": {
        "id": "6bHgl9HpnKkf",
        "outputId": "e91c110e-c1df-4cdf-b386-6505776e8d11",
        "colab": {
          "base_uri": "https://localhost:8080/"
        },
        "collapsed": true
      },
      "execution_count": 37,
      "outputs": [
        {
          "output_type": "stream",
          "name": "stdout",
          "text": [
            "Alpha values: [1e-09, 1.0000000000000002e-10, 1.0000000000000001e-11, 1.0000000000000002e-12, 1.0000000000000002e-13, 1.0000000000000002e-14, 1e-15, 1e-16, 1e-17]\n"
          ]
        }
      ]
    },
    {
      "cell_type": "code",
      "source": [
        "# Cell 2: Define system of ODEs\n",
        "\n",
        "def get_rhs_system(alpha, method_name, error_log, K):\n",
        "    error_log.setdefault(method_name + '_msgs', 0)\n",
        "\n",
        "    def rhs(t, xy):\n",
        "        x_safe = np.clip(xy[0], 1e-20, 1e20)\n",
        "        y_safe = np.clip(xy[1], 1e-20, 1e20)\n",
        "        inv_alpha = 1 / alpha\n",
        "        try:\n",
        "            log_x = np.log(x_safe)\n",
        "            log_y = np.log(y_safe)\n",
        "            log_b = np.log(b)\n",
        "            exp_x = np.exp(np.clip(log_x * inv_alpha, -700, 700))\n",
        "            exp_y = np.exp(np.clip(log_y * inv_alpha, -700, 700))\n",
        "            exp_b = np.exp(np.clip(log_b * inv_alpha, -700, 700))\n",
        "            denom = exp_b + exp_x\n",
        "            dxdt = K * exp_x / denom\n",
        "            dydt = K * exp_y / denom\n",
        "            return [dxdt, dydt]\n",
        "        except Exception as e:\n",
        "            error_log[method_name] += 1\n",
        "            if error_log[method_name + '_msgs'] < MAX_LOG_MESSAGES:\n",
        "                print(f\"Numerical error in {method_name} at t={t:.5f}, x={x_safe:.5f}, y={y_safe:.5f}, alpha={alpha:.2e}: {e}\")\n",
        "                error_log[method_name + '_msgs'] += 1\n",
        "            return [0.0, 0.0]\n",
        "\n",
        "    return rhs"
      ],
      "metadata": {
        "id": "9Y4umsyb6ar1",
        "collapsed": true
      },
      "execution_count": 38,
      "outputs": []
    },
    {
      "cell_type": "code",
      "source": [
        "# Cell 3: Solve and plot per alpha and solver with varying initial conditions\n",
        "\n",
        "for method in all_methods:\n",
        "    print(f\"Solving with method: {method}\")\n",
        "    for alpha in alpha_list:\n",
        "        rhs = get_rhs_system(alpha, method, error_counts, K)\n",
        "        plt.figure(figsize=(10, 8))\n",
        "        failures = 0\n",
        "        for shift in initial_shifts:\n",
        "            x0 = b * (1 + shift)\n",
        "            y0 = b * (1 + shift)\n",
        "            try:\n",
        "                if method == \"Symplectic\":\n",
        "                    dt = t_eval[1] - t_eval[0]\n",
        "                    x = [x0]\n",
        "                    y = [y0]\n",
        "                    for t_i in t_eval[:-1]:\n",
        "                        rhs_val = rhs(t_i, [x[-1], y[-1]])\n",
        "                        x.append(x[-1] + dt * rhs_val[0])\n",
        "                        y.append(y[-1] + dt * rhs_val[1])\n",
        "                    x_vals = np.array(x)\n",
        "                    y_vals = np.array(y)\n",
        "                else:\n",
        "                    sol = solve_ivp(rhs, [0, t_end], [x0, y0], t_eval=t_eval, method=method)\n",
        "                    x_vals = sol.y[0]\n",
        "                    y_vals = sol.y[1]\n",
        "                style = style_map[shift]\n",
        "                plt.plot(x_vals, y_vals,\n",
        "                         linestyle=style[\"linestyle\"],\n",
        "                         color=style[\"color\"],\n",
        "                         marker=style[\"marker\"],\n",
        "                         markevery=30,\n",
        "                         linewidth=1.2)\n",
        "                idx = len(x_vals) // 2\n",
        "                plt.text(x_vals[idx], y_vals[idx], f\"x0={x0:.2e}\", fontsize=8, color=style[\"color\"])\n",
        "            except Exception as e:\n",
        "                failures += 1\n",
        "        if failures == len(initial_shifts):\n",
        "            alpha_failed[method].append(alpha)\n",
        "        plt.xlabel(\"x(t)\")\n",
        "        plt.ylabel(\"y(t)\")\n",
        "        plt.title(f\"{method}: alpha = {alpha:.1e}\")\n",
        "        plt.grid(True, linestyle='--', linewidth=0.5)\n",
        "        plt.tight_layout()\n",
        "        plt.show()"
      ],
      "metadata": {
        "id": "h_Dz1j7EvUlb"
      },
      "execution_count": null,
      "outputs": []
    },
    {
      "cell_type": "code",
      "source": [
        "# Cell 4: Plot number of failures vs log10(alpha)\n",
        "\n",
        "plt.figure(figsize=(8, 5))\n",
        "for method in all_methods:\n",
        "    alpha_vals = [np.log10(a) for a in alpha_failed[method]]\n",
        "    errors = [1] * len(alpha_vals)\n",
        "    if alpha_vals:\n",
        "        plt.scatter(alpha_vals, errors, label=method)\n",
        "plt.xlabel(\"log10(alpha)\")\n",
        "plt.ylabel(\"Failure detected\")\n",
        "plt.title(\"Methods vs Failed Alpha Values\")\n",
        "plt.legend()\n",
        "plt.grid(True)\n",
        "plt.tight_layout()\n",
        "plt.show()"
      ],
      "metadata": {
        "id": "1NUfBTAr2L9o",
        "outputId": "29bdfcc2-95b3-47f2-ccc9-4fc1273ef074",
        "colab": {
          "base_uri": "https://localhost:8080/",
          "height": 562
        }
      },
      "execution_count": 35,
      "outputs": [
        {
          "output_type": "stream",
          "name": "stderr",
          "text": [
            "/tmp/ipython-input-35-298464599.py:12: UserWarning: No artists with labels found to put in legend.  Note that artists whose label start with an underscore are ignored when legend() is called with no argument.\n",
            "  plt.legend()\n"
          ]
        },
        {
          "output_type": "display_data",
          "data": {
            "text/plain": [
              "<Figure size 800x500 with 1 Axes>"
            ],
            "image/png": "[encoded data removed]"
          },
          "metadata": {}
        }
      ]
    },
    {
      "cell_type": "code",
      "source": [
        "# Cell 5: Lyapunov exponent estimation table\n",
        "print(\"\\n=== Lyapunov Exponents by alpha ===\")\n",
        "print(\"{:12s} | {:>10s}\".format(\"alpha\", \"lambda\"))\n",
        "print(\"-\" * 25)\n",
        "\n",
        "for alpha in alpha_list:\n",
        "    delta0 = 1e-9\n",
        "    x0 = b * (1 - alpha * 10)\n",
        "    y0 = b * (1 - alpha * 10)\n",
        "    rhs = get_rhs_system(alpha, \"Lyap\", error_counts, K)\n",
        "    try:\n",
        "        sol1 = solve_ivp(rhs, [0, t_end], [x0, y0], t_eval=t_eval, method=\"RK45\")\n",
        "        sol2 = solve_ivp(rhs, [0, t_end], [x0 + delta0, y0], t_eval=t_eval, method=\"RK45\")\n",
        "        dists = np.linalg.norm(sol2.y.T - sol1.y.T, axis=1)\n",
        "        log_d = np.log(np.clip(dists / delta0, 1e-12, 1e12))\n",
        "        lyap_exp = (log_d[-1] - log_d[0]) / (t_eval[-1] - t_eval[0])\n",
        "        print(\"{:12.1e} | {:10.4f}{}\".format(alpha, lyap_exp, \"  <---\" if lyap_exp > 0.1 else \"\"))\n",
        "    except Exception as e:\n",
        "        print(\"{:12.1e} | FAILED\".format(alpha))"
      ],
      "metadata": {
        "id": "jjnR94Eu4gja",
        "outputId": "13064578-f175-4b3b-d28b-08e413edf871",
        "colab": {
          "base_uri": "https://localhost:8080/"
        }
      },
      "execution_count": 36,
      "outputs": [
        {
          "output_type": "stream",
          "name": "stdout",
          "text": [
            "\n",
            "=== Lyapunov Exponents by alpha ===\n",
            "alpha        |     lambda\n",
            "-------------------------\n",
            "     1.0e-09 |    20.7042  <---\n",
            "     1.0e-10 |    17.0907  <---\n",
            "     1.0e-11 |    20.7042  <---\n",
            "     1.0e-12 |    20.7042  <---\n",
            "     1.0e-13 |    20.7042  <---\n",
            "     1.0e-14 |    20.7042  <---\n",
            "     1.0e-15 |    20.7042  <---\n",
            "     1.0e-16 |    20.7042  <---\n",
            "     1.0e-17 |    20.7042  <---\n"
          ]
        }
      ]
    },
    {
      "cell_type": "markdown",
      "source": [
        "# 🧬📉 Анализ фазового пространства генрегуляторной системы — обновлённая версия\n",
        "\n",
        "- **Цель**: Изучить фазовую динамику, бифуркации и чувствительность решений системы ОДУ, моделирующей генрегуляцию:  \n",
        "  $$\n",
        "  \\frac{dx}{dt} = \\frac{K \\cdot x^{1/\\alpha}}{b^{1/\\alpha} + x^{1/\\alpha}}, \\quad\n",
        "  \\frac{dy}{dt} = \\frac{K \\cdot y^{1/\\alpha}}{b^{1/\\alpha} + x^{1/\\alpha}}\n",
        "  $$\n",
        "\n",
        "- **Фиксированные параметры**:  \n",
        "  - $b = 1.0$  \n",
        "  - $K = 1.0$ (фиксированный скалярный множитель)  \n",
        "\n",
        "- **Начальные условия**: Несколько точек около $b$:  \n",
        "  $$\n",
        "  x_0, y_0 \\approx b \\times (1 - \\epsilon), \\quad \\epsilon \\in \\{10^{-7}, 10^{-8}, 10^{-9}\\}\n",
        "  $$  \n",
        "  для исследования чувствительности и возможности нескольких траекторий решения.\n",
        "\n",
        "- **Временной интервал**:  \n",
        "  $$\n",
        "  t \\in [0, t_{\\text{end}}], \\quad t_{\\text{end}} = 0.05\n",
        "  $$\n",
        "\n",
        "- **Диапазон альфа** (логарифмический масштаб, суженный):  \n",
        "  $$\n",
        "  \\alpha \\in \\{10^{-9}, 10^{-10}, 10^{-11}, 10^{-12}, 10^{-13}, 10^{-14}\\}\n",
        "  $$\n",
        "\n",
        "## ⚙️ Используемые численные решатели\n",
        "- ⚡ `RK45` — явный метод Рунге-Кутты 4(5) с адаптивным шагом  \n",
        "- 🌐 `DOP853` — высокопорядковый метод Dormand-Prince 8(5,3)  \n",
        "- 🧱 `BDF` — метод обратных разностей, для жёстких систем  \n",
        "- 🧿 `Radau` — A-устойчивый неявный метод Рунге-Кутты  \n",
        "- 🐢 `RK23` — явный метод Рунге-Кутты 2(3), пониже порядок  \n",
        "- 🌀 `Symplectic` — собственная реализация явного метода Эйлера (симплектический аналог)\n",
        "\n",
        "## 📈 Визуализация и диагностика\n",
        "- ✔️ Фазовые портреты ($y(t)$ против $x(t)$) для каждого решателя и каждого $\\alpha$, на каждом графике показаны траектории для разных начальных условий.  \n",
        "- ➡️ Стрелки (quiver) вдоль траекторий показывают направление потока — размер стрелок подобран для наглядности без засорения.  \n",
        "- 🔄 Цвета, стили линий, маркеры используются для различения начальных условий; значения начальных условий подписаны прямо на кривых.  \n",
        "- ⚠️ Учёт и логирование численных ошибок и сбоев для каждого решателя и $\\alpha$.  \n",
        "- 📊 Итоговая таблица по решателям с:  \n",
        "  - Общим временем интегрирования  \n",
        "  - Числом вычислений функции правой части (`nfev`), отражающим вычислительные затраты.\n",
        "\n",
        "## 🧪 Расширенный численный анализ\n",
        "- 🔍 **Оценка показателя Ляпунова**:  \n",
        "  Приблизительный расчёт на основе расходимости близких траекторий.  \n",
        "  Положительный показатель говорит о чувствительной зависимости и потенциальном хаосе.  \n",
        "- 🌪️ **Обнаружение бифуркации Неймарк–Сакера**:  \n",
        "  - Оценка отображения Пуанкаре (конечная точка решения)  \n",
        "  - Якобиан, вычисленный численно по разностям начальных условий  \n",
        "  - Анализ собственных чисел для выхода за единичную окружность (бифуркация).\n",
        "\n",
        "## 📌 Примечания по реализации\n",
        "- Начальные условия варьируются вблизи $b$ для проверки множественности решений и чувствительности.  \n",
        "- Управление переполнением реализовано через ограничение экспонент в логарифмической области для предотвращения `NaN`/`Inf`.  \n",
        "- Симплектический решатель — упрощённый явный метод Эйлера, поскольку в SciPy нет нативного симплектического метода.  \n",
        "- Ошибки и неудачи интегрирования собираются и визуализируются в зависимости от $\\alpha$, что помогает локализовать проблемные зоны параметра.\n",
        "\n",
        "---\n",
        "\n",
        "*Данный ноутбук даёт основу для исследования сложной динамики генрегуляторных ОДУ-систем, включая численную устойчивость, бифуркационный анализ и выявление хаоса с помощью множества решателей и перебора параметров.*"
      ],
      "metadata": {
        "id": "jCHjiet6OU7T"
      }
    }
  ]
}