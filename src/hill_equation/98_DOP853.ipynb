{
  "nbformat": 4,
  "nbformat_minor": 0,
  "metadata": {
    "colab": {
      "provenance": [],
      "authorship_tag": "ABX9TyOHoTPAS8ZphAhMuBl0B4OJ",
      "include_colab_link": true
    },
    "kernelspec": {
      "name": "python3",
      "display_name": "Python 3"
    },
    "language_info": {
      "name": "python"
    }
  },
  "cells": [
    {
      "cell_type": "markdown",
      "metadata": {
        "id": "view-in-github",
        "colab_type": "text"
      },
      "source": [
        "<a href=\"https://colab.research.google.com/github/componavt/differential_equations/blob/main/src/hill_equation/98_DOP853.ipynb\" target=\"_parent\"><img src=\"https://colab.research.google.com/assets/colab-badge.svg\" alt=\"Open In Colab\"/></a>"
      ]
    },
    {
      "cell_type": "markdown",
      "source": [
        "# 🧬📊 Solution Archive for Gene Regulatory ODE System (Compressed) 🚀\n",
        "\n",
        "**Overview**  \n",
        "This notebook computes numerical solutions of a gene-regulatory ODE system for many parameter combinations, compresses trajectories using a delta-based filter, and stores all results in a single compact file. Designed for fast and interactive visualization (e.g., in Streamlit) ⚡️.\n",
        "\n",
        "---\n",
        "\n",
        "**Model Equations**\n",
        "\n",
        "\\[\n",
        "\\begin{cases}\n",
        "\\frac{dx}{dt} = \\frac{K\\,x^{1/\\alpha}}{b^{1/\\alpha} + x^{1/\\alpha}} \\;-\\; \\gamma_1\\,x,\\\\[6pt]\n",
        "\\frac{dy}{dt} = \\frac{K\\,y^{1/\\alpha}}{b^{1/\\alpha} + y^{1/\\alpha}} \\;-\\; \\gamma_2\\,y.\n",
        "\\end{cases}\n",
        "\\]\n",
        "\n",
        "**Fixed parameters**  \n",
        "- b = 1.0, K = 1.0 ⚙️  \n",
        "- Time: t ∈ [0, 1.0], N = 500 steps ⏳  \n",
        "- Initial conditions: x₀ = y₀ = b × (1 + shift), where shift ∈ {−1e−3, −1e−6, 0, 1e−6, 1e−3} 🎯\n",
        "\n",
        "**Parameter sweeps**  \n",
        "- α ∈ {1e−9, 1e−10, ..., 1e−14} 🔄  \n",
        "- γ₁, γ₂ ∈ {0.0, 0.1, ..., 1.0} 🔄  \n",
        "- Solvers: DOP853, BDF, Radau, RK23 🧮\n",
        "\n",
        "---\n",
        "\n",
        "**Compression algorithm** 🗜️  \n",
        "After solving the ODE:  \n",
        "- Start from the first point 🚩  \n",
        "- Keep the next point only if the Euclidean distance in (x, y) exceeds delta = 1e−6 ➡️  \n",
        "- Always keep the first and last points 🎯  \n",
        "- This drastically reduces data size while preserving visual fidelity 👁️‍🗨️\n",
        "\n",
        "---\n",
        "\n",
        "**Each row in the final DataFrame contains**  \n",
        "- Parameters: x₀, y₀, γ₁, γ₂, α 📊  \n",
        "- t: filtered time array (shared across solvers) ⏲️  \n",
        "- solutions: a dictionary `{method_name: (x_array, y_array)}` 🗂️\n",
        "\n",
        "All results are saved to:  \n",
        "📁 `ode_solutions/solutions.pkl` 💾\n",
        "\n",
        "---\n",
        "\n",
        "**How to use this in Streamlit**  \n",
        "- Load the DataFrame with `pd.read_pickle(...)` 📥  \n",
        "- Let users select α, γ₁, γ₂, and view solver comparisons 🎛️  \n",
        "- Plot filtered trajectories for better performance ⚡️\n",
        "\n",
        "---\n",
        "\n",
        "*This notebook provides a compact and scalable pipeline for collecting and visualizing large numbers of ODE simulations 🚀*"
      ],
      "metadata": {
        "id": "x_MjmLltGfLi"
      }
    },
    {
      "cell_type": "code",
      "source": [],
      "metadata": {
        "id": "bsu6WYafE7Jx"
      },
      "execution_count": 30,
      "outputs": []
    },
    {
      "cell_type": "code",
      "source": [
        "# Modified code for saving ODE solutions with trajectory compression using delta filtering\n",
        "# Cell 1: Parameters and library imports\n",
        "import numpy as np\n",
        "import pandas as pd\n",
        "from scipy.integrate import solve_ivp\n",
        "import os\n",
        "\n",
        "# Model parameters\n",
        "b = 1.0\n",
        "t_end = 1.0\n",
        "K = 1.0\n",
        "#alpha_list = [1e-9 * (10 ** -i) for i in range(6)]\n",
        "alpha_list = [1e-3 * (10 ** -i) for i in range(4)]\n",
        "\n",
        "# Time discretization\n",
        "N = 500\n",
        "initial_shifts = [-0.1, -0.01, 0.0, 0.01, 0.1]\n",
        "t_eval = np.linspace(0, t_end, N)\n",
        "\n",
        "# Solver methods and gamma parameters\n",
        "#all_methods = [\"DOP853\", \"BDF\", \"Radau\", \"RK23\"]\n",
        "method = \"DOP853\"\n",
        "gamma_1_list = np.arange(0, 1.01, 0.1)\n",
        "gamma_2_list = np.arange(0, 1.01, 0.1)\n",
        "initial_conditions = [(b * (1 + s), b * (1 + s)) for s in initial_shifts] # x,y around b = 1\n",
        "\n",
        "# Output folder\n",
        "output_folder = \"ode_solutions\"\n",
        "os.makedirs(output_folder, exist_ok=True)\n",
        "\n",
        "# Delta threshold for filtering # DataFrame with 3630 rows\n",
        "               # Total filtered points\n",
        "# delta = 1e-6 # kept: 7188295, skipped: 71705,   percent removed: 0.99%\n",
        "# delta = 1e-3 # kept: 5878948, skipped: 1381052, percent removed: 19.02%\n",
        "# delta = 5e-3 # kept: 1658108, skipped: 5601892, percent removed: 77.16%\n",
        "# delta = 1e-2 # kept: 900358,  skipped: 6359642, percent removed: 87.60%\n",
        "delta = 5e-2 #   kept: 207087, skipped: 7052913, percent removed: 97.15%\n",
        "\n",
        "def compress_trajectory(t, x, y, delta):\n",
        "    indices = [0]\n",
        "    i = 0\n",
        "    while i < len(t) - 1:\n",
        "        j = i + 1\n",
        "        while j < len(t):\n",
        "            dist = np.sqrt((x[j] - x[i])**2 + (y[j] - y[i])**2)\n",
        "            if dist > delta:\n",
        "                break\n",
        "            j += 1\n",
        "        if j >= len(t):\n",
        "            break\n",
        "        indices.append(j)\n",
        "        i = j\n",
        "    if indices[-1] != len(t) - 1:\n",
        "        indices.append(len(t) - 1)\n",
        "    return indices"
      ],
      "metadata": {
        "id": "6bHgl9HpnKkf",
        "collapsed": true
      },
      "execution_count": 31,
      "outputs": []
    },
    {
      "cell_type": "code",
      "source": [
        "# Cell 2: Define RHS function\n",
        "def get_rhs(alpha, gamma1, gamma2):\n",
        "    def rhs(t, xy):\n",
        "        x = np.clip(xy[0], 1e-20, 1e20)\n",
        "        y = np.clip(xy[1], 1e-20, 1e20)\n",
        "        inv_alpha = 1.0 / alpha\n",
        "        x_alpha = np.exp(np.clip(np.log(x) * inv_alpha, -700, 700))\n",
        "        y_alpha = np.exp(np.clip(np.log(y) * inv_alpha, -700, 700))\n",
        "        b_alpha = np.exp(np.clip(np.log(b) * inv_alpha, -700, 700))\n",
        "        dxdt = K * x_alpha / (b_alpha + x_alpha) - gamma1 * x\n",
        "        dydt = K * y_alpha / (b_alpha + y_alpha) - gamma2 * y\n",
        "        return [dxdt, dydt]\n",
        "    return rhs"
      ],
      "metadata": {
        "id": "9Y4umsyb6ar1",
        "collapsed": true
      },
      "execution_count": 32,
      "outputs": []
    },
    {
      "cell_type": "code",
      "source": [
        "# Cell 3: Solve and compress\n",
        "records = []\n",
        "solution_count = 0\n",
        "skipped_total = 0\n",
        "kept_total = 0\n",
        "\n",
        "for x0, y0 in initial_conditions:\n",
        "    for gamma1 in gamma_1_list:\n",
        "        for gamma2 in gamma_2_list:\n",
        "            for alpha in alpha_list:\n",
        "                rhs = get_rhs(alpha, gamma1, gamma2)\n",
        "                try:\n",
        "                    sol = solve_ivp(rhs, [0, t_end], [x0, y0], t_eval=t_eval, method=method)\n",
        "                    if sol.success:\n",
        "                        x = sol.y[0]\n",
        "                        y = sol.y[1]\n",
        "                        t = sol.t\n",
        "                        indices = compress_trajectory(t, x, y, delta)\n",
        "                        x_filt = x[indices]\n",
        "                        y_filt = y[indices]\n",
        "                        t_filt = t[indices]\n",
        "\n",
        "                        kept_total += len(indices)\n",
        "                        skipped_total += len(t) - len(indices)\n",
        "\n",
        "                        records.append({\n",
        "                            'x0': x0,\n",
        "                            'y0': y0,\n",
        "                            'gamma1': gamma1,\n",
        "                            'gamma2': gamma2,\n",
        "                            'alpha': alpha,\n",
        "                            't': t_filt,\n",
        "                            'solutions': {method: (x_filt, y_filt)}\n",
        "                        })\n",
        "\n",
        "                        solution_count += 1\n",
        "                        if solution_count % 1000 == 0:\n",
        "                            compact = ','.join(map(str, indices[:5])) + ('...' if len(indices) > 5 else '')\n",
        "                            xvals = ', '.join(f\"{v:.3g}\" for v in x_filt[:5]) + ('...' if len(x_filt) > 5 else '')#\n",
        "                            yvals = ', '.join(f\"{v:.3g}\" for v in y_filt[:5]) + ('...' if len(y_filt) > 5 else '')#\n",
        "                            print(f\"#{solution_count}: x0={x0:.1e}, alpha={alpha:.1e}, γ1={gamma1:.2f}, γ2={gamma2:.2f}, {method}, points={len(indices)}, kept={compact}\")\n",
        "                            print(f\"  x: {xvals}\\n  y: {yvals}\\n\")#\n",
        "                except Exception as e:\n",
        "                    print(f\"Error: method={method}, alpha={alpha}, gamma1={gamma1}, gamma2={gamma2}, x0={x0}: {e}\")"
      ],
      "metadata": {
        "id": "h_Dz1j7EvUlb",
        "colab": {
          "base_uri": "https://localhost:8080/"
        },
        "outputId": "421ab15a-13c0-4306-dfde-993906fafa75"
      },
      "execution_count": 33,
      "outputs": [
        {
          "output_type": "stream",
          "name": "stdout",
          "text": [
            "#1000: x0=1.0e+00, alpha=1.0e-06, γ1=0.00, γ2=0.70, DOP853, points=23, kept=0,23,46,67,89...\n",
            "  x: 1, 1.04, 1.09, 1.13, 1.17...\n",
            "  y: 1, 0.972, 0.943, 0.916, 0.888...\n",
            "\n",
            "#2000: x0=1.1e+00, alpha=1.0e-06, γ1=0.10, γ2=0.40, DOP853, points=20, kept=0,24,49,74,99...\n",
            "  x: 1.1, 1.14, 1.19, 1.23, 1.27...\n",
            "  y: 1.1, 1.13, 1.15, 1.18, 1.21...\n",
            "\n"
          ]
        }
      ]
    },
    {
      "cell_type": "code",
      "source": [
        "# Cell 4: Save\n",
        "df = pd.DataFrame(records)\n",
        "df.to_pickle(os.path.join(output_folder, \"solutions.pkl\"))\n",
        "print(f\"Saved DataFrame with {len(df)} rows to 'solutions.pkl'\")\n",
        "print(f\"Total filtered points kept: {kept_total}, skipped: {skipped_total}, percent removed: {100.0 * skipped_total / (kept_total + skipped_total):.2f}%\")"
      ],
      "metadata": {
        "id": "XnNZGt3y8apZ",
        "outputId": "95687019-0bd9-4921-b0c8-69b1d8a17c62",
        "colab": {
          "base_uri": "https://localhost:8080/"
        }
      },
      "execution_count": 34,
      "outputs": [
        {
          "output_type": "stream",
          "name": "stdout",
          "text": [
            "Saved DataFrame with 2420 rows to 'solutions.pkl'\n",
            "Total filtered points kept: 34679, skipped: 1175321, percent removed: 97.13%\n"
          ]
        }
      ]
    }
  ]
}