{
  "nbformat": 4,
  "nbformat_minor": 0,
  "metadata": {
    "colab": {
      "provenance": [],
      "authorship_tag": "ABX9TyNKLZM16BjUTzzWY0rWP0dQ",
      "include_colab_link": true
    },
    "kernelspec": {
      "name": "python3",
      "display_name": "Python 3"
    },
    "language_info": {
      "name": "python"
    }
  },
  "cells": [
    {
      "cell_type": "markdown",
      "metadata": {
        "id": "view-in-github",
        "colab_type": "text"
      },
      "source": [
        "<a href=\"https://colab.research.google.com/github/componavt/differential_equations/blob/main/src/hill_equation/95_save_for_streamlit_unique_x_y.ipynb\" target=\"_parent\"><img src=\"https://colab.research.google.com/assets/colab-badge.svg\" alt=\"Open In Colab\"/></a>"
      ]
    },
    {
      "cell_type": "markdown",
      "source": [
        "\n",
        "\n",
        "\n",
        "\n",
        "# 🧬📊 Solution Archive for Gene Regulatory ODE System\n",
        "\n",
        "**Overview:**  \n",
        "This notebook computes and saves numerical solutions of a two-dimensional gene-regulatory ODE system under a wide range of parameter values. Solutions are saved to disk for later visualization in interactive apps like Streamlit.\n",
        "\n",
        "---\n",
        "\n",
        "**Model Equations**  \n",
        "\\begin{cases}\n",
        "\\frac{dx}{dt} = \\frac{K\\,x^{1/α}}{b^{1/α} + x^{1/α}} \\;-\\; γ_1\\,x,\\\\[6pt]\n",
        "\\frac{dy}{dt} = \\frac{K\\,y^{1/α}}{b^{1/α} + y^{1/α}} \\;-\\; γ_2\\,y.\n",
        "\\end{cases}\n",
        "\n",
        "**Fixed parameters:**  \n",
        "- b = 1.0, K = 1.0  \n",
        "- Time: t ∈ [0, 1.0], N = 500 steps  \n",
        "- Initial condition(s): x₀ = y₀ = b * (1 - ε), ε ≈ 1e-10\n",
        "\n",
        "**Parameter sweeps:**  \n",
        "- α ∈ {1e-9, 1e-10, … , 1e-14}  \n",
        "- γ₁, γ₂ ∈ {0.0, 0.5, 1.0}  \n",
        "- Solvers: RK45, DOP853, BDF\n",
        "\n",
        "---\n",
        "\n",
        "**What this notebook does:**  \n",
        "1. For each combination of α, γ₁, γ₂, and solver:\n",
        "   - Integrates the ODE system from a fixed initial condition.\n",
        "   - Saves time points and trajectories x(t), y(t).\n",
        "2. Each solution is stored as a dictionary with:\n",
        "   - Parameters: α, γ₁, γ₂, solver name, initial values\n",
        "   - Solution arrays: t, x(t), y(t)\n",
        "   - Status: success or failure\n",
        "3. All results are saved in a single `pickle` file:  \n",
        "   📁 `ode_solutions/solutions.pkl`\n",
        "\n",
        "---\n",
        "\n",
        "**How to use this in Streamlit:**  \n",
        "- Load the file with `pickle.load(open(...))`  \n",
        "- Add controls (checkboxes, sliders) for α, γ₁, γ₂, solver  \n",
        "- Filter solutions and display interactive plots of x(t), y(t)  \n",
        "\n",
        "---\n",
        "\n",
        "*This notebook provides a scalable, solver-agnostic framework for collecting ODE simulation results for downstream visualization and analysis.*"
      ],
      "metadata": {
        "id": "1VotvD7Q8eIg"
      }
    },
    {
      "cell_type": "code",
      "source": [
        "# Modified code for saving ODE solutions for Streamlit with filtering across alpha and method\n",
        "# Cell 1: Parameters and library imports\n",
        "import numpy as np\n",
        "from scipy.integrate import solve_ivp\n",
        "import os\n",
        "\n",
        "b = 1.0\n",
        "t_end = 1\n",
        "K = 1.0\n",
        "epsilon = 1e-5  # Minimum allowed difference for uniqueness\n",
        "alpha_list = [1e-9 * (10 ** -i) for i in range(6)]  # 1e-9 to 1e-14\n",
        "print(\"Alpha values:\", alpha_list)\n",
        "\n",
        "N = 500\n",
        "t_eval = np.linspace(0, t_end, N)\n",
        "\n",
        "all_methods = [\"DOP853\", \"BDF\", \"Radau\", \"RK23\"]  # limited for simplicity\n",
        "\n",
        "gamma_1_list = np.arange(0, 1.01, 0.1)\n",
        "gamma_2_list = np.arange(0, 1.01, 0.1)\n",
        "\n",
        "# Initial condition shifts\n",
        "initial_shifts = [-1e-3, -1e-6, 0.0, 1e-6, 1e-3]\n",
        "initial_conditions = [(b * (1 + shift), b * (1 + shift)) for shift in initial_shifts]\n",
        "\n",
        "# Folder for saving data\n",
        "output_folder = \"ode_solutions\"\n",
        "os.makedirs(output_folder, exist_ok=True)"
      ],
      "metadata": {
        "id": "6bHgl9HpnKkf",
        "outputId": "04733d9d-a910-4f21-bbf3-231b5510c12d",
        "colab": {
          "base_uri": "https://localhost:8080/"
        },
        "collapsed": true
      },
      "execution_count": 4,
      "outputs": [
        {
          "output_type": "stream",
          "name": "stdout",
          "text": [
            "Alpha values: [1e-09, 1.0000000000000002e-10, 1.0000000000000001e-11, 1.0000000000000002e-12, 1.0000000000000002e-13, 1.0000000000000002e-14]\n"
          ]
        }
      ]
    },
    {
      "cell_type": "code",
      "source": [
        "# Cell 2: Define RHS with decay terms\n",
        "def get_rhs(alpha, gamma1, gamma2):\n",
        "    def rhs(t, xy):\n",
        "        x = np.clip(xy[0], 1e-20, 1e20)\n",
        "        y = np.clip(xy[1], 1e-20, 1e20)\n",
        "        inv_alpha = 1 / alpha\n",
        "        x_alpha = np.exp(np.clip(np.log(x) * inv_alpha, -700, 700))\n",
        "        y_alpha = np.exp(np.clip(np.log(y) * inv_alpha, -700, 700))\n",
        "        b_alpha = np.exp(np.clip(np.log(b) * inv_alpha, -700, 700))\n",
        "        dxdt = K * x_alpha / (b_alpha + x_alpha) - gamma1 * x\n",
        "        dydt = K * y_alpha / (b_alpha + y_alpha) - gamma2 * y\n",
        "        return [dxdt, dydt]\n",
        "    return rhs"
      ],
      "metadata": {
        "id": "9Y4umsyb6ar1",
        "collapsed": true
      },
      "execution_count": 5,
      "outputs": []
    },
    {
      "cell_type": "code",
      "source": [
        "# Cell 3: Solve and collect results with uniqueness filtering across methods and alphas\n",
        "entries = []\n",
        "saved_signatures = []  # store {'x': array, 'y': array}\n",
        "\n",
        "for x0, y0 in initial_conditions:\n",
        "    for gamma1 in gamma_1_list:\n",
        "        for gamma2 in gamma_2_list:\n",
        "            for method in all_methods:\n",
        "                for alpha in alpha_list:\n",
        "                    rhs = get_rhs(alpha, gamma1, gamma2)\n",
        "                    try:\n",
        "                        sol = solve_ivp(rhs, [0, t_end], [x0, y0], t_eval=t_eval, method=method)\n",
        "                        if not sol.success:\n",
        "                            continue\n",
        "                        x = sol.y[0]\n",
        "                        y = sol.y[1]\n",
        "\n",
        "                        # Check uniqueness across previously saved results\n",
        "                        unique = True\n",
        "                        for sig in saved_signatures:\n",
        "                            if np.linalg.norm(x - sig['x']) < epsilon and np.linalg.norm(y - sig['y']) < epsilon:\n",
        "                                unique = False\n",
        "                                break\n",
        "                        if not unique:\n",
        "                            continue\n",
        "\n",
        "                        # Save signature and entry\n",
        "                        saved_signatures.append({'x': x, 'y': y})\n",
        "                        entries.append({\n",
        "                            'alpha': alpha,\n",
        "                            'gamma1': gamma1,\n",
        "                            'gamma2': gamma2,\n",
        "                            'method': method,\n",
        "                            'x0': x0,\n",
        "                            'y0': y0,\n",
        "                            't': sol.t,\n",
        "                            'x': x,\n",
        "                            'y': y,\n",
        "                        })\n",
        "                    except Exception as e:\n",
        "                        print(f\"Error: method={method}, alpha={alpha}, gamma1={gamma1}, gamma2={gamma2}, x0={x0:.2e}: {e}\")\n",
        "\n",
        "# Cell 4: Convert to npz-friendly format\n",
        "npz_data = {\n",
        "    'alpha': np.array([e['alpha'] for e in entries]),\n",
        "    'gamma1': np.array([e['gamma1'] for e in entries]),\n",
        "    'gamma2': np.array([e['gamma2'] for e in entries]),\n",
        "    'method': np.array([e['method'] for e in entries]),\n",
        "    'x0': np.array([e['x0'] for e in entries]),\n",
        "    'y0': np.array([e['y0'] for e in entries]),\n",
        "    't': np.array([e['t'] for e in entries], dtype=object),\n",
        "    'x': np.array([e['x'] for e in entries], dtype=object),\n",
        "    'y': np.array([e['y'] for e in entries], dtype=object),\n",
        "}\n",
        "\n",
        "# Cell 5: Save to .npz file\n",
        "import numpy as _np\n",
        "_np.savez_compressed(os.path.join(output_folder, \"solutions_gene_ODU.npz\"), **npz_data)\n",
        "print(f\"Saved {len(entries)} unique solution entries to 'solutions.npz'\")"
      ],
      "metadata": {
        "id": "h_Dz1j7EvUlb",
        "colab": {
          "base_uri": "https://localhost:8080/"
        },
        "outputId": "3d21e18a-4a81-4043-d3f8-fe4aea8ebc89"
      },
      "execution_count": 6,
      "outputs": [
        {
          "output_type": "stream",
          "name": "stdout",
          "text": [
            "Saved 2583 unique solution entries to 'solutions.npz'\n"
          ]
        }
      ]
    }
  ]
}