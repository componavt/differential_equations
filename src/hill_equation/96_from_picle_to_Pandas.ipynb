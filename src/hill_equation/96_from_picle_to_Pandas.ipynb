{
  "nbformat": 4,
  "nbformat_minor": 0,
  "metadata": {
    "colab": {
      "provenance": [],
      "authorship_tag": "ABX9TyPAWtE0s0yhcJDqqZfU43Vu",
      "include_colab_link": true
    },
    "kernelspec": {
      "name": "python3",
      "display_name": "Python 3"
    },
    "language_info": {
      "name": "python"
    }
  },
  "cells": [
    {
      "cell_type": "markdown",
      "metadata": {
        "id": "view-in-github",
        "colab_type": "text"
      },
      "source": [
        "<a href=\"https://colab.research.google.com/github/componavt/differential_equations/blob/main/src/hill_equation/96_from_picle_to_Pandas.ipynb\" target=\"_parent\"><img src=\"https://colab.research.google.com/assets/colab-badge.svg\" alt=\"Open In Colab\"/></a>"
      ]
    },
    {
      "cell_type": "markdown",
      "source": [
        "\n",
        "\n",
        "\n",
        "\n",
        "# 🧬📊 Solution Archive for Gene Regulatory ODE System\n",
        "\n",
        "**Overview:**  \n",
        "This notebook computes and saves numerical solutions of a two-dimensional gene-regulatory ODE system under a wide range of parameter values. Solutions are saved to disk for later visualization in interactive apps like Streamlit.\n",
        "\n",
        "---\n",
        "\n",
        "**Model Equations**  \n",
        "\\begin{cases}\n",
        "\\frac{dx}{dt} = \\frac{K\\,x^{1/α}}{b^{1/α} + x^{1/α}} \\;-\\; γ_1\\,x,\\\\[6pt]\n",
        "\\frac{dy}{dt} = \\frac{K\\,y^{1/α}}{b^{1/α} + y^{1/α}} \\;-\\; γ_2\\,y.\n",
        "\\end{cases}\n",
        "\n",
        "**Fixed parameters:**  \n",
        "- b = 1.0, K = 1.0  \n",
        "- Time: t ∈ [0, 1.0], N = 500 steps  \n",
        "- Initial condition(s): x₀ = y₀ = b * (1 - ε), ε ≈ 1e-10\n",
        "\n",
        "**Parameter sweeps:**  \n",
        "- α ∈ {1e-9, 1e-10, … , 1e-14}  \n",
        "- γ₁, γ₂ ∈ {0.0, 0.5, 1.0}  \n",
        "- Solvers: RK45, DOP853, BDF\n",
        "\n",
        "---\n",
        "\n",
        "**What this notebook does:**  \n",
        "1. For each combination of α, γ₁, γ₂, and solver:\n",
        "   - Integrates the ODE system from a fixed initial condition.\n",
        "   - Saves time points and trajectories x(t), y(t).\n",
        "2. Each solution is stored as a dictionary with:\n",
        "   - Parameters: α, γ₁, γ₂, solver name, initial values\n",
        "   - Solution arrays: t, x(t), y(t)\n",
        "   - Status: success or failure\n",
        "3. All results are saved in a single `pickle` file:  \n",
        "   📁 `ode_solutions/solutions.pkl`\n",
        "\n",
        "---\n",
        "\n",
        "**How to use this in Streamlit:**  \n",
        "- Load the file with `pickle.load(open(...))`  \n",
        "- Add controls (checkboxes, sliders) for α, γ₁, γ₂, solver  \n",
        "- Filter solutions and display interactive plots of x(t), y(t)  \n",
        "\n",
        "---\n",
        "\n",
        "*This notebook provides a scalable, solver-agnostic framework for collecting ODE simulation results for downstream visualization and analysis.*"
      ],
      "metadata": {
        "id": "1VotvD7Q8eIg"
      }
    },
    {
      "cell_type": "code",
      "source": [
        "# Modified code for saving ODE solutions for Streamlit as pandas DataFrame\n",
        "# Cell 1: Parameters and library imports\n",
        "import numpy as np\n",
        "import pandas as pd\n",
        "from scipy.integrate import solve_ivp\n",
        "import os\n",
        "\n",
        "# Model parameters\n",
        "b = 1.0\n",
        "t_end = 1.0\n",
        "K = 1.0\n",
        "alpha_list = [1e-9 * (10 ** -i) for i in range(6)]  # 1e-9 to 1e-14\n",
        "print(\"Alpha values:\", alpha_list)\n",
        "\n",
        "# Time discretization\\N = 100  # Reduced number of time steps\n",
        "t_eval = np.linspace(0, t_end, N)\n",
        "\n",
        "# Solver methods and gamma parameters\n",
        "all_methods = [\"DOP853\", \"BDF\", \"Radau\", \"RK23\"]\n",
        "gamma_1_list = np.arange(0, 1.01, 0.1)\n",
        "gamma_2_list = np.arange(0, 1.01, 0.1)\n",
        "\n",
        "# Initial condition shifts\\initial_shifts = [-1e-3, -1e-6, 0.0, 1e-6, 1e-3]\n",
        "initial_conditions = [(b * (1 + s), b * (1 + s)) for s in initial_shifts]\n",
        "\n",
        "# Output folder\n",
        "output_folder = \"ode_solutions\"\n",
        "os.makedirs(output_folder, exist_ok=True)"
      ],
      "metadata": {
        "id": "6bHgl9HpnKkf",
        "outputId": "67462220-80f6-4403-f173-6f4365228c68",
        "colab": {
          "base_uri": "https://localhost:8080/"
        },
        "collapsed": true
      },
      "execution_count": 1,
      "outputs": [
        {
          "output_type": "stream",
          "name": "stdout",
          "text": [
            "Alpha values: [1e-09, 1.0000000000000002e-10, 1.0000000000000001e-11, 1.0000000000000002e-12, 1.0000000000000002e-13, 1.0000000000000002e-14]\n"
          ]
        }
      ]
    },
    {
      "cell_type": "code",
      "source": [
        "# Cell 2: Define RHS function\n",
        "def get_rhs(alpha, gamma1, gamma2):\n",
        "    def rhs(t, xy):\n",
        "        x = np.clip(xy[0], 1e-20, 1e20)\n",
        "        y = np.clip(xy[1], 1e-20, 1e20)\n",
        "        inv_alpha = 1.0 / alpha\n",
        "        x_alpha = np.exp(np.clip(np.log(x) * inv_alpha, -700, 700))\n",
        "        y_alpha = np.exp(np.clip(np.log(y) * inv_alpha, -700, 700))\n",
        "        b_alpha = np.exp(np.clip(np.log(b) * inv_alpha, -700, 700))\n",
        "        dxdt = K * x_alpha / (b_alpha + x_alpha) - gamma1 * x\n",
        "        dydt = K * y_alpha / (b_alpha + y_alpha) - gamma2 * y\n",
        "        return [dxdt, dydt]\n",
        "    return rhs"
      ],
      "metadata": {
        "id": "9Y4umsyb6ar1",
        "collapsed": true
      },
      "execution_count": 2,
      "outputs": []
    },
    {
      "cell_type": "code",
      "source": [
        "# Cell 3: Collect all solutions into list of dicts\n",
        "records = []\n",
        "for x0, y0 in initial_conditions:\n",
        "    for gamma1 in gamma_1_list:\n",
        "        for gamma2 in gamma_2_list:\n",
        "            # for each parameter combination, collect solver outputs\n",
        "            solutions = {}\n",
        "            for method in all_methods:\n",
        "                for alpha in alpha_list:\n",
        "                    rhs = get_rhs(alpha, gamma1, gamma2)\n",
        "                    try:\n",
        "                        sol = solve_ivp(rhs, [0, t_end], [x0, y0], t_eval=t_eval, method=method)\n",
        "                        if sol.success:\n",
        "                            # store x, y arrays for this method\n",
        "                            if (x0, y0, gamma1, gamma2, alpha) not in [(r['x0'], r['y0'], r['gamma1'], r['gamma2'], r['alpha']) for r in records]:\n",
        "                                # first time seeing this parameter set: initialize record\n",
        "                                records.append({\n",
        "                                    'x0': x0,\n",
        "                                    'y0': y0,\n",
        "                                    'gamma1': gamma1,\n",
        "                                    'gamma2': gamma2,\n",
        "                                    'alpha': alpha,\n",
        "                                    't': sol.t,\n",
        "                                    'solutions': {method: (sol.y[0], sol.y[1])}\n",
        "                                })\n",
        "                            else:\n",
        "                                # find existing record and add method\n",
        "                                for rec in records:\n",
        "                                    if rec['x0']==x0 and rec['y0']==y0 and rec['gamma1']==gamma1 and rec['gamma2']==gamma2 and rec['alpha']==alpha:\n",
        "                                        rec['solutions'][method] = (sol.y[0], sol.y[1])\n",
        "                                        break\n",
        "                    except Exception as e:\n",
        "                        print(f\"Error: method={method}, alpha={alpha}, gamma1={gamma1}, gamma2={gamma2}, x0={x0}: {e}\")\n",
        "\n",
        "# Cell 4: Convert to pandas DataFrame and save\n",
        "# Each row corresponds to (x0, y0, gamma1, gamma2, alpha), with 't' and 'solutions' columns\n",
        "df = pd.DataFrame(records)\n",
        "# Persist DataFrame to pickle\n",
        "df.to_pickle(os.path.join(output_folder, \"solutions.pkl\"))\n",
        "print(f\"Saved DataFrame with {len(df)} rows to 'solutions.pkl'\")"
      ],
      "metadata": {
        "id": "h_Dz1j7EvUlb",
        "colab": {
          "base_uri": "https://localhost:8080/"
        },
        "outputId": "623b1418-c146-4a21-c0ad-e8cbcfc50f04"
      },
      "execution_count": 3,
      "outputs": [
        {
          "output_type": "stream",
          "name": "stdout",
          "text": [
            "Saved 2550 unique solution entries to 'solutions.pkl'\n",
            "Total attempts: 14520\n",
            "Skipped due to similarity: 11970 (82.44%)\n"
          ]
        }
      ]
    }
  ]
}